{
 "cells": [
  {
   "cell_type": "code",
   "execution_count": 1,
   "id": "ab25e2e4-65e7-441e-939c-ee3220cd1870",
   "metadata": {
    "id": "ab25e2e4-65e7-441e-939c-ee3220cd1870",
    "outputId": "c73aa50d-f540-4abc-eea8-8bda9ce6f168"
   },
   "outputs": [],
   "source": [
    "import torch\n",
    "import torch.nn as nn\n",
    "import numpy as np\n",
    "from ogb.lsc import MAG240MDataset\n",
    "from torch_geometric.data import Data\n",
    "import networkx as nx\n",
    "\n",
    "# initialize the dataset\n",
    "ROOT = './MAG240M'\n",
    "dataset = MAG240MDataset(root=ROOT)\n",
    "\n",
    "# embedding param\n",
    "max_author_idx = dataset.num_authors  # authors' max index\n",
    "max_institution_idx = dataset.num_institutions  # institutions' max index\n",
    "embedding_dim = 16  # embedding dimension\n",
    "\n",
    "# create embedding layer\n",
    "author_embedding = nn.Embedding(num_embeddings=max_author_idx, embedding_dim=embedding_dim)\n",
    "institution_embedding = nn.Embedding(num_embeddings=max_institution_idx, embedding_dim=embedding_dim)\n",
    "\n",
    "# retrieve indices & feature\n",
    "paper_labels = dataset.all_paper_label\n",
    "valid_indices = np.where((paper_labels >= 0) & (paper_labels <= 152))[0]\n",
    "paper_indices = np.random.choice(valid_indices, size=30, replace=False)\n",
    "# paper_indices = np.random.choice(dataset.num_papers, size=30, replace=False)  # paper indices\n",
    "edge_index_writes = dataset.edge_index('author', 'writes', 'paper')\n",
    "edge_index_affiliated_with = dataset.edge_index('author', 'institution')\n",
    "selected_paper_features = dataset.paper_feat[np.array(paper_indices)]\n",
    "selected_paper_labels = paper_labels[paper_indices]\n",
    "\n",
    "new_features_list = []\n",
    "for i, paper_index in enumerate(paper_indices):\n",
    "    # retrieve author & institution index\n",
    "    author_idx = edge_index_writes[0, edge_index_writes[1] == paper_index]\n",
    "    institution_idx = edge_index_affiliated_with[1, np.isin(edge_index_affiliated_with[0], author_idx)]\n",
    "\n",
    "    # generate embedding\n",
    "    author_embeds = author_embedding(torch.LongTensor(author_idx))\n",
    "    institution_embeds = institution_embedding(torch.LongTensor(institution_idx))\n",
    "\n",
    "    # aggregate embedding by taking the mean\n",
    "    author_embed = torch.mean(author_embeds, dim=0) if len(author_idx) > 0 else torch.zeros(embedding_dim)\n",
    "    institution_embed = torch.mean(institution_embeds, dim=0) if len(institution_idx) > 0 else torch.zeros(embedding_dim)\n",
    "\n",
    "\n",
    "    paper_feature_tensor = torch.tensor(selected_paper_features[i], dtype=torch.float16)\n",
    "    author_embed_tensor = author_embed.to(torch.float16)\n",
    "    institution_embed_tensor = institution_embed.to(torch.float16)\n",
    "\n",
    "    # transfer embedding to float16 and concatenate with original feature matrix\n",
    "    combined_features = torch.cat([paper_feature_tensor, author_embed_tensor, institution_embed_tensor], dim=0)\n",
    "    new_features_list.append(combined_features)\n",
    "\n",
    "# transfer to tensor\n",
    "new_features_matrix = torch.stack(new_features_list)\n",
    "\n",
    "# create subgraph\n",
    "edge_index_cites = dataset.edge_index('paper', 'paper')\n",
    "new_edge_index = edge_index_cites[:, np.isin(edge_index_cites[0], paper_indices) & np.isin(edge_index_cites[1], paper_indices)]\n",
    "subgraph_data = Data(x=new_features_matrix, edge_index=new_edge_index)\n",
    "\n",
    "# save subgraph\n",
    "# torch.save(subgraph_data, 'MAG240Msubgraph_test.pt')\n",
    "\n",
    "n_original_nodes = len(new_features_list)\n",
    "n_synthetic_nodes = 1999970\n",
    "new_node_labels = np.random.randint(-1, 152, size=n_synthetic_nodes)\n",
    "n_total_nodes = n_original_nodes + n_synthetic_nodes\n",
    "\n",
    "all_node_labels = np.concatenate([selected_paper_labels, new_node_labels])\n",
    "\n",
    "original_edge_index = subgraph_data.edge_index\n",
    "#Watts-Strogatz model param\n",
    "k = 6\n",
    "p = 0.1\n",
    "#Generate Watts-Strogatz graph\n",
    "ws_graph = nx.watts_strogatz_graph(n_total_nodes, k, p)\n",
    "ws_edges = torch.tensor(list(ws_graph.edges), dtype = torch.long).t().contiguous()\n",
    "\n",
    "# new_edges = ws_edges[:,(ws_edges[0] >= n_original_nodes) | (ws_edges[1] >= n_original_nodes)]\n",
    "\n",
    "# combined_edge_index = torch.cat([original_edge_index, new_edges], dim=1)\n",
    "\n",
    "\n",
    "# Assuming new_edges is a NumPy array\n",
    "new_edges = ws_edges[:, (ws_edges[0] >= n_original_nodes) | (ws_edges[1] >= n_original_nodes)]\n",
    "new_edges_tensor = torch.from_numpy(new_edges)\n",
    "\n",
    "# Assuming original_edge_index is already a PyTorch tensor\n",
    "combined_edge_index = torch.cat([original_edge_index, new_edges_tensor], dim=1)\n",
    "\n",
    "\n",
    "synthetic_features_list = new_features_list.copy()\n",
    "for _ in range(n_synthetic_nodes):\n",
    "    base_feature = new_features_list[np.random.randint(len(new_features_list))].clone()\n",
    "    noise = torch.randn_like(base_feature) * 0.05\n",
    "    synthetic_feature = base_feature + noise\n",
    "    synthetic_features_list.append(synthetic_feature)\n",
    "\n",
    "synthetic_features_matrix = torch.stack(synthetic_features_list)\n",
    "\n",
    "synthetic_data = Data(x=synthetic_features_matrix, edge_index=combined_edge_index)\n",
    "synthetic_data.y = torch.tensor(all_node_labels, dtype=torch.long)\n",
    "torch.save(synthetic_data, 'MAG240M_synthetic_ws_graph_30core.pt')"
   ]
  },
  {
   "cell_type": "code",
   "execution_count": 3,
   "id": "06c38038-604f-4a47-9a31-54345dc8b54d",
   "metadata": {
    "id": "06c38038-604f-4a47-9a31-54345dc8b54d"
   },
   "outputs": [
    {
     "data": {
      "text/plain": [
       "tensor([[      0,       0,       0,  ..., 1999996, 1999997, 1999998],\n",
       "        [1999999, 1999998, 1999997,  ..., 1999999, 1999999, 1999999]])"
      ]
     },
     "execution_count": 3,
     "metadata": {},
     "output_type": "execute_result"
    }
   ],
   "source": [
    "new_edges"
   ]
  },
  {
   "cell_type": "code",
   "execution_count": 10,
   "id": "d6c61fe7-17b5-419b-b921-66648061d68a",
   "metadata": {},
   "outputs": [
    {
     "data": {
      "text/plain": [
       "array([[        3,         3,         3, ..., 121751664, 121751664,\n",
       "        121751664],\n",
       "       [  1806011,   4352730,   5950316, ..., 109890517, 118131973,\n",
       "        118471854]])"
      ]
     },
     "execution_count": 10,
     "metadata": {},
     "output_type": "execute_result"
    }
   ],
   "source": [
    "edge_index_cites"
   ]
  },
  {
   "cell_type": "code",
   "execution_count": 11,
   "id": "4a232adc-9128-40e0-ab34-35c4385e529f",
   "metadata": {},
   "outputs": [
    {
     "data": {
      "text/plain": [
       "array([], shape=(2, 0), dtype=int64)"
      ]
     },
     "execution_count": 11,
     "metadata": {},
     "output_type": "execute_result"
    }
   ],
   "source": [
    "edge_index_cites[:, np.isin(edge_index_cites[0], paper_indices) & np.isin(edge_index_cites[1], paper_indices)]"
   ]
  },
  {
   "cell_type": "code",
   "execution_count": 12,
   "id": "6ca00883-7242-4bee-be31-52be909c419d",
   "metadata": {},
   "outputs": [
    {
     "data": {
      "text/plain": [
       "array([ 71586024,  99048486,  58765590,  20224237,  98310460,   9673892,\n",
       "         2181806,  90585598,  87663071,  94481025, 120304214, 108973976,\n",
       "        16563845,  19895585,  40567197, 110402197,  89602365, 117563223,\n",
       "        52943478,  28485890,  73530911,  24438326, 101312487,  95458655,\n",
       "       114941189,  63317227,  89127793, 106174629,  69444973,  56983353])"
      ]
     },
     "execution_count": 12,
     "metadata": {},
     "output_type": "execute_result"
    }
   ],
   "source": [
    "paper_indices"
   ]
  },
  {
   "cell_type": "code",
   "execution_count": 13,
   "id": "ac4eb6c9-8bd5-420c-ab79-c2de48064647",
   "metadata": {},
   "outputs": [
    {
     "data": {
      "text/plain": [
       "array([False, False, False, ..., False, False, False])"
      ]
     },
     "execution_count": 13,
     "metadata": {},
     "output_type": "execute_result"
    }
   ],
   "source": [
    "np.isin(edge_index_cites[0], paper_indices)"
   ]
  },
  {
   "cell_type": "code",
   "execution_count": null,
   "id": "82d122b6-11a1-449e-9752-177a954077ab",
   "metadata": {},
   "outputs": [],
   "source": []
  }
 ],
 "metadata": {
  "colab": {
   "provenance": []
  },
  "kernelspec": {
   "display_name": "Python 3 (ipykernel)",
   "language": "python",
   "name": "python3"
  },
  "language_info": {
   "codemirror_mode": {
    "name": "ipython",
    "version": 3
   },
   "file_extension": ".py",
   "mimetype": "text/x-python",
   "name": "python",
   "nbconvert_exporter": "python",
   "pygments_lexer": "ipython3",
   "version": "3.10.12"
  }
 },
 "nbformat": 4,
 "nbformat_minor": 5
}
